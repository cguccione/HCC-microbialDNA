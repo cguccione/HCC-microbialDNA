{
 "cells": [
  {
   "cell_type": "markdown",
   "id": "cb631a26-a7c1-4b34-b429-cd15e0de0819",
   "metadata": {},
   "source": [
    "## Step 2: Zebra Falsely Mapped Read Removal\n",
    "**Goal: To run [Zebra](https://github.com/biocore/zebra_filter) to remove any reads which may have been incorrectly mapped**\n",
    "\n",
    "Citation:\n",
    "Hakim D, Wandro S, Zengler K, Zaramela LS, Nowinski B, Swafford A, Zhu Q, Song SJ, Gonzalez A, McDonald D, Knight R. Zebra: Static and Dynamic Genome Cover Thresholds with Overlapping References. mSystems. 2022 Oct 26;7(5):e0075822. doi: 10.1128/msystems.00758-22\n",
    "\n",
    "Note: Zebra coverages were run on Qiita, more info [here](https://github.com/qiita-spots/qiita/blob/ac62aba5333f537c32e213855edc39c273aa9871/CHANGELOG.md?plain=1#L9)"
   ]
  },
  {
   "cell_type": "markdown",
   "id": "1865292e-0aa0-4fd7-82ab-19a999022d71",
   "metadata": {},
   "source": [
    "### Imports"
   ]
  },
  {
   "cell_type": "code",
   "execution_count": 1,
   "id": "1f874e30-5465-4d4a-b3ee-0e2f021cc923",
   "metadata": {},
   "outputs": [],
   "source": [
    "import pandas as pd\n",
    "from biom import load_table\n",
    "from qiime2 import Artifact"
   ]
  },
  {
   "cell_type": "code",
   "execution_count": 2,
   "id": "b106993a-5de4-4b58-a54d-619a53c4a830",
   "metadata": {},
   "outputs": [],
   "source": [
    "#Import zebra coverages from Qiita\n",
    "\n",
    "zebra_wol2 = pd.read_csv('qiita_downloads/qiita15336_prep16181_pangenome/188963_coverages_WoLr2/coverage_percentage.txt',\n",
    "                         sep = '\\t', header = None,\n",
    "                         names =['gOTU', 'percent_coverage']).sort_values(by='percent_coverage', ascending = False).reset_index(drop= True)\n",
    "zebra_rs210 = pd.read_csv('qiita_downloads/qiita15336_prep16181_pangenome/188968_coverages_RS210/coverage_percentage.txt',\n",
    "                          sep = '\\t', header = None,\n",
    "                          names =['gOTU', 'percent_coverage']).sort_values(by='percent_coverage', ascending = False).reset_index(drop= True)"
   ]
  },
  {
   "cell_type": "code",
   "execution_count": 3,
   "id": "8d9c3ed4-9d60-4248-a169-faa6bb688682",
   "metadata": {},
   "outputs": [],
   "source": [
    "#Import qza files from SCRuB into pandas df\n",
    "\n",
    "df_wol2 = Artifact.load('processed_data/SCRuB/qiita15336_prep16181_pangenome_wol2_scrubbed.qza').view(pd.DataFrame).T\n",
    "df_rs210 = Artifact.load('processed_data/SCRuB/qiita15336_prep16181_pangenome_rs210_scrubbed.qza').view(pd.DataFrame).T"
   ]
  },
  {
   "cell_type": "markdown",
   "id": "74c35713-a9e3-4573-881d-89260a96c5d1",
   "metadata": {},
   "source": [
    "### Functions"
   ]
  },
  {
   "cell_type": "code",
   "execution_count": 4,
   "id": "a16499b8-6bc9-4460-9f4f-1deeaf9fea85",
   "metadata": {},
   "outputs": [],
   "source": [
    "def subset_coverage(df, zebra_coverage, min_coverage):\n",
    "    \n",
    "    #Subset zebra to at least min_coverage\n",
    "    zebra_coverage = zebra_coverage[zebra_coverage['percent_coverage'] >= min_coverage]\n",
    "    \n",
    "    #Subset df using zebra\n",
    "    df = df[df.index.isin(zebra_coverage['gOTU'])]\n",
    "    \n",
    "    return(df)\n",
    "    "
   ]
  },
  {
   "cell_type": "code",
   "execution_count": 5,
   "id": "3f0f2602-b0d4-4c88-aca7-a614465a93ec",
   "metadata": {},
   "outputs": [],
   "source": [
    "def combo_tech_rep(df, fn, min_coverage):\n",
    "   \n",
    "    #Find cols ending with '.2'\n",
    "    rep_cols = [col for col in df.columns if col.endswith('.2')]\n",
    "\n",
    "    #Create new df with paired technical replicates\n",
    "    df_techReps = pd.DataFrame()\n",
    "    for col in rep_cols:\n",
    "        col_name = col[:-2]  #remove the '.2'\n",
    "        if col_name in df.columns:\n",
    "            df_techReps[col_name] = df[col_name] + df[col]\n",
    "            \n",
    "    #Export subset df as qza\n",
    "    qza = Artifact.import_data(\"FeatureTable[Frequency]\", df_techReps.T)\n",
    "    qza.save('processed_data/Zebra_filtered/'+ fn + str(min_coverage) + '.qza')\n",
    "\n",
    "    return(df_techReps)"
   ]
  },
  {
   "cell_type": "markdown",
   "id": "ace5e085-68b3-400d-90a4-1905f3cd03b8",
   "metadata": {},
   "source": [
    "### Subset biom files to having only gOTUs with at least 0.1% coverage"
   ]
  },
  {
   "cell_type": "code",
   "execution_count": 6,
   "id": "14749029-9e06-4aa9-ba4b-c33940d63e8e",
   "metadata": {},
   "outputs": [],
   "source": [
    "#Set min coverage percentage\n",
    "min_coverage = 0.1\n",
    "\n",
    "df_subset_wol2 = subset_coverage(df_wol2, zebra_wol2, min_coverage)\n",
    "df_subset_rs210 = subset_coverage(df_rs210, zebra_rs210, min_coverage)\n"
   ]
  },
  {
   "cell_type": "markdown",
   "id": "8f798eb3-6c00-481a-9bfe-31953d28c0f6",
   "metadata": {},
   "source": [
    "### Combine technical replicates and export files"
   ]
  },
  {
   "cell_type": "code",
   "execution_count": 7,
   "id": "44e0e115-8192-4017-b204-c1f6488be001",
   "metadata": {},
   "outputs": [],
   "source": [
    "df_subset_techRep_wol2 = combo_tech_rep(df_subset_wol2, 'qiita15336_prep16181_pangenome_wol2_scrubbed_zebraFilter', min_coverage)\n",
    "df_subset_techRep_rs210 = combo_tech_rep(df_subset_rs210, 'qiita15336_prep16181_pangenome_rs210_scrubbed_zebraFilter', min_coverage)\n"
   ]
  },
  {
   "cell_type": "code",
   "execution_count": null,
   "id": "dc915682-f1da-4aa5-8839-638590565dd8",
   "metadata": {},
   "outputs": [],
   "source": []
  }
 ],
 "metadata": {
  "kernelspec": {
   "display_name": "Python 3 (ipykernel)",
   "language": "python",
   "name": "python3"
  },
  "language_info": {
   "codemirror_mode": {
    "name": "ipython",
    "version": 3
   },
   "file_extension": ".py",
   "mimetype": "text/x-python",
   "name": "python",
   "nbconvert_exporter": "python",
   "pygments_lexer": "ipython3",
   "version": "3.8.18"
  }
 },
 "nbformat": 4,
 "nbformat_minor": 5
}
