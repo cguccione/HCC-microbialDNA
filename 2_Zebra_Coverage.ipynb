{
 "cells": [
  {
   "cell_type": "markdown",
   "id": "cb631a26-a7c1-4b34-b429-cd15e0de0819",
   "metadata": {},
   "source": [
    "[Zebra](https://journals.asm.org/doi/full/10.1128/msystems.00758-22) to remove any reads which may have been incorrectly mapped"
   ]
  },
  {
   "cell_type": "code",
   "execution_count": null,
   "id": "f68d2561-3c4f-43b8-98dc-a2090253bbb2",
   "metadata": {},
   "outputs": [],
   "source": []
  }
 ],
 "metadata": {
  "kernelspec": {
   "display_name": "Python 3 (ipykernel)",
   "language": "python",
   "name": "python3"
  },
  "language_info": {
   "codemirror_mode": {
    "name": "ipython",
    "version": 3
   },
   "file_extension": ".py",
   "mimetype": "text/x-python",
   "name": "python",
   "nbconvert_exporter": "python",
   "pygments_lexer": "ipython3",
   "version": "3.9.12"
  }
 },
 "nbformat": 4,
 "nbformat_minor": 5
}
