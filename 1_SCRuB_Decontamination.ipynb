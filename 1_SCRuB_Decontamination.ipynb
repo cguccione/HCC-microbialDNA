{
 "cells": [
  {
   "cell_type": "markdown",
   "id": "7f0ce5a9-ffd4-41f6-9f48-969b4ff9ae0d",
   "metadata": {},
   "source": [
    "## Step 1: SCRuB_Decontamination\n",
    "**Goal: To run [SCRuB](https://www.nature.com/articles/s41587-023-01696-w) to remove any lab associated contamination**\n",
    "\n",
    "Citation:\n",
    "Austin, G.I., Park, H., Meydan, Y. et al. Contamination source modeling with SCRuB improves cancer phenotype prediction from microbiome data. Nat Biotechnol (2023). https://doi.org/10.1038/s41587-023-01696-w  \n",
    "\n",
    "Qiime2 Install: https://forum.qiime2.org/t/q2-scrub-release/26609"
   ]
  },
  {
   "cell_type": "markdown",
   "id": "3f7cdf0a-e2f7-424b-8144-e2eb98e41190",
   "metadata": {},
   "source": [
    "### Imports"
   ]
  },
  {
   "cell_type": "code",
   "execution_count": 1,
   "id": "b5584c26-b4ac-4d3b-8566-60a069fcd2a6",
   "metadata": {},
   "outputs": [],
   "source": [
    "import pandas as pd"
   ]
  },
  {
   "cell_type": "code",
   "execution_count": 2,
   "id": "4b22c457-d980-4a46-845f-ac384cfd46b2",
   "metadata": {},
   "outputs": [],
   "source": [
    "#Import prep and study info from pangenome filtered data on Qiita\n",
    "prep = pd.read_csv('qiita_downloads/qiita13756_prep16010_pangenome/13756_prep_16010_20231009-093827.txt', sep = '\\t')\n",
    "meta = pd.read_csv('qiita_downloads/qiita13756_prep16010_pangenome/sample_information_from_prep_16010.tsv', sep = '\\t')"
   ]
  },
  {
   "cell_type": "markdown",
   "id": "346e8b2c-a525-4167-bc96-12310a247b38",
   "metadata": {},
   "source": [
    "### Prep for SCRuB"
   ]
  },
  {
   "cell_type": "code",
   "execution_count": 3,
   "id": "3d9a3e9e-8494-4176-9a0a-f739a130fa92",
   "metadata": {},
   "outputs": [],
   "source": [
    "#Create metadata with SCRub specific headers\n",
    "scrub_meta = pd.DataFrame()\n",
    "scrub_meta['sampleid'] = meta['sample_name']\n",
    "scrub_meta['is_control'] = meta['empo_1'].replace({'Host-associated': 0.0, 'Control': 1.0})\n",
    "scrub_meta['sample_type'] = meta['qiita_sample_type']\n",
    "scrub_meta['well_id'] = scrub_meta['sampleid'].map(prep.set_index('sample_name')['sample_well'])\n",
    "\n",
    "scrub_meta.to_csv('processed_data/SCRuB/scrub_meta_pangenome.tsv', sep = '\\t', index = False)\n",
    "#scrub_meta[100:150]"
   ]
  },
  {
   "cell_type": "markdown",
   "id": "15e055e5-64ca-4d56-aba4-78727ccbd2de",
   "metadata": {},
   "source": [
    "### Decontaminate with SCRuB"
   ]
  },
  {
   "cell_type": "code",
   "execution_count": 4,
   "id": "420d18e6-2304-42a9-af24-743ce90bc6c5",
   "metadata": {},
   "outputs": [
    {
     "name": "stdout",
     "output_type": "stream",
     "text": [
      "\u001b[32mSaved FeatureTable[Frequency] to: processed_data/SCRuB/183373_WoLr2_pangenome_scrubbed.qza\u001b[0m\n",
      "\u001b[0m"
     ]
    }
   ],
   "source": [
    "#WOL2\n",
    "! qiime SCRuB SCRuB \\\n",
    "--i-table qiita_downloads/qiita13756_prep16010_pangenome/183373_feature-table_WoLr2.qza \\\n",
    "--m-metadata-file processed_data/SCRuB/scrub_meta_pangenome.tsv \\\n",
    "--p-control-idx-column is_control \\\n",
    "--p-sample-type-column sample_type \\\n",
    "--p-well-location-column well_id \\\n",
    "--p-control-order \"control blank\" \\\n",
    "--o-scrubbed processed_data/SCRuB/183373_WoLr2_pangenome_scrubbed.qza"
   ]
  },
  {
   "cell_type": "code",
   "execution_count": 5,
   "id": "9132ba89-45ce-4239-aa9c-89431dfbd11b",
   "metadata": {},
   "outputs": [
    {
     "name": "stdout",
     "output_type": "stream",
     "text": [
      "\u001b[32mSaved FeatureTable[Frequency] to: processed_data/SCRuB/183319_RS210_pangenome_scrubbed.qza\u001b[0m\n",
      "\u001b[0m"
     ]
    }
   ],
   "source": [
    "#RS210\n",
    "! qiime SCRuB SCRuB \\\n",
    "--i-table qiita_downloads/qiita13756_prep16010_pangenome/183319_feature-table_RS210.qza \\\n",
    "--m-metadata-file processed_data/SCRuB/scrub_meta_pangenome.tsv \\\n",
    "--p-control-idx-column is_control \\\n",
    "--p-sample-type-column sample_type \\\n",
    "--p-well-location-column well_id \\\n",
    "--p-control-order \"control blank\" \\\n",
    "--o-scrubbed processed_data/SCRuB/183319_RS210_pangenome_scrubbed.qza"
   ]
  },
  {
   "cell_type": "code",
   "execution_count": null,
   "id": "7221fe9a-c445-4471-ba66-46ad1c301303",
   "metadata": {},
   "outputs": [],
   "source": []
  }
 ],
 "metadata": {
  "kernelspec": {
   "display_name": "Python 3 (ipykernel)",
   "language": "python",
   "name": "python3"
  },
  "language_info": {
   "codemirror_mode": {
    "name": "ipython",
    "version": 3
   },
   "file_extension": ".py",
   "mimetype": "text/x-python",
   "name": "python",
   "nbconvert_exporter": "python",
   "pygments_lexer": "ipython3",
   "version": "3.8.18"
  }
 },
 "nbformat": 4,
 "nbformat_minor": 5
}
