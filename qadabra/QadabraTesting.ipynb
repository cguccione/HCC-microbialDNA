{
 "cells": [
  {
   "cell_type": "markdown",
   "id": "2d6224e4-56db-4ddb-87d5-503740d57db4",
   "metadata": {},
   "source": [
    "### Testing dropping samples for Qadabra"
   ]
  },
  {
   "cell_type": "code",
   "execution_count": 1,
   "id": "7e60a711-656f-4ef1-83c3-762adbf67387",
   "metadata": {},
   "outputs": [],
   "source": [
    "import pandas as pd"
   ]
  },
  {
   "cell_type": "code",
   "execution_count": 19,
   "id": "770cc347-2929-4165-b04c-6b4f8ad783ac",
   "metadata": {},
   "outputs": [],
   "source": [
    "def filter_taxonomy_by_metadata(taxonomy_df, metadata_df, metadata_column):\n",
    "    \"\"\"\n",
    "    Filter the taxonomy DataFrame based on metadata values.\n",
    "\n",
    "    Parameters:\n",
    "    - taxonomy_df (pd.DataFrame): DataFrame with taxonomy information.\n",
    "    - metadata_df (pd.DataFrame): DataFrame with metadata information.\n",
    "    - metadata_column (str): Name of the metadata column to check.\n",
    "\n",
    "    Returns:\n",
    "    - pd.DataFrame: Filtered taxonomy DataFrame.\n",
    "    \"\"\"\n",
    "    unique_metadata_values = metadata_df[metadata_column].unique()\n",
    "\n",
    "    for metadata_value in unique_metadata_values:\n",
    "        # Check if any sample in metadata has the specified value\n",
    "        samples_with_value = metadata_df.loc[metadata_df[metadata_column] == metadata_value, 'sample_name'].values\n",
    "        \n",
    "        # Drop rows in the taxonomy DataFrame where all corresponding samples have the specified metadata value\n",
    "        taxonomy_df = taxonomy_df[~(taxonomy_df[samples_with_value] == 0).all(axis=1)]\n",
    "    \n",
    "    return taxonomy_df"
   ]
  },
  {
   "cell_type": "code",
   "execution_count": 46,
   "id": "743743ae-c9ce-4dc2-9e16-f717f7886570",
   "metadata": {},
   "outputs": [],
   "source": [
    "def prep_filter(fn, metric):\n",
    "    \n",
    "    meta = pd.read_csv('/panfs/cguccion/22_06_22_HCC_CRC_Amir/HCC-microbialDNA/processed_data/metadata/metadata_' + fn + '.tsv', sep = '\\t')\n",
    "    biom = pd.read_csv('/panfs/cguccion/22_06_22_HCC_CRC_Amir/HCC-microbialDNA/qadabra/' + fn + '/' + fn + '.tsv', sep = '\\t')\n",
    "\n",
    "    filtered_taxonomy = filter_taxonomy_by_metadata(biom, meta, metric)\n",
    "    \n",
    "    filtered_taxonomy.to_csv('/panfs/cguccion/22_06_22_HCC_CRC_Amir/HCC-microbialDNA/qadabra/' + fn + '/' + fn + '_filtered.tsv', sep = '\\t', index=False)\n",
    "    \n",
    "    print('Run the following:')\n",
    "    print('biom convert -i', '/panfs/cguccion/22_06_22_HCC_CRC_Amir/HCC-microbialDNA/qadabra/' + fn + '/' + fn + '_filtered.tsv -o /panfs/cguccion/22_06_22_HCC_CRC_Amir/HCC-microbialDNA/qadabra/' + fn + '/' + fn + '_filtered.biom --to-hdf5')\n",
    "           "
   ]
  },
  {
   "cell_type": "code",
   "execution_count": 47,
   "id": "75f64b6a-9b80-414c-8f25-3c1b6400bde6",
   "metadata": {},
   "outputs": [
    {
     "name": "stdout",
     "output_type": "stream",
     "text": [
      "Run the following:\n",
      "biom convert -i /panfs/cguccion/22_06_22_HCC_CRC_Amir/HCC-microbialDNA/qadabra/adj_HCC_v_CRC/adj_HCC_v_CRC_filtered.tsv -o /panfs/cguccion/22_06_22_HCC_CRC_Amir/HCC-microbialDNA/qadabra/adj_HCC_v_CRC/adj_HCC_v_CRC_filtered.biom --to-hdf5\n"
     ]
    }
   ],
   "source": [
    "prep_filter('adj_HCC_v_CRC', 'tumor_type')"
   ]
  },
  {
   "cell_type": "code",
   "execution_count": null,
   "id": "fe59f37b-13c8-47bf-88c1-534d6071dd71",
   "metadata": {},
   "outputs": [],
   "source": []
  }
 ],
 "metadata": {
  "kernelspec": {
   "display_name": "comad",
   "language": "python",
   "name": "comad"
  },
  "language_info": {
   "codemirror_mode": {
    "name": "ipython",
    "version": 3
   },
   "file_extension": ".py",
   "mimetype": "text/x-python",
   "name": "python",
   "nbconvert_exporter": "python",
   "pygments_lexer": "ipython3",
   "version": "3.8.12"
  }
 },
 "nbformat": 4,
 "nbformat_minor": 5
}
