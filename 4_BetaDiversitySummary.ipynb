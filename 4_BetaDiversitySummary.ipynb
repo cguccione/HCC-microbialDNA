{
 "cells": [
  {
   "cell_type": "markdown",
   "id": "8dd989c0-53e8-4270-a2a2-3aeb57ae4bda",
   "metadata": {},
   "source": [
    "## Step 3: Summarize Beta Diversity Across Groups\n",
    "**Goal: To create list of all combination of beta diversities: RS210/WoLR2, Unifraq Weighted, Unifraq Unweighted, RPCA at the genome level**"
   ]
  },
  {
   "cell_type": "markdown",
   "id": "49150ce5-6333-4556-8310-2fa407ed7a6b",
   "metadata": {},
   "source": [
    "### Imports"
   ]
  },
  {
   "cell_type": "code",
   "execution_count": 1,
   "id": "c5464bc0-7837-41a0-b504-0428d0f37da8",
   "metadata": {},
   "outputs": [],
   "source": [
    "import pandas as pd\n",
    "\n",
    "#from python_scripts.beta_diversity import *"
   ]
  },
  {
   "cell_type": "markdown",
   "id": "918b6b20-fd3d-463e-b098-da21d70e8ac3",
   "metadata": {
    "tags": []
   },
   "source": [
    "### Functions"
   ]
  },
  {
   "cell_type": "code",
   "execution_count": 7,
   "id": "dfece8f4-3027-4ab0-b353-f5b7ed400813",
   "metadata": {},
   "outputs": [],
   "source": [
    "'''\n",
    "Helper functions used to calculate basic\n",
    "beta diversity\n",
    "'''\n",
    "\n",
    "import pandas as pd\n",
    "\n",
    "import qiime2 as q2\n",
    "from qiime2 import Artifact, Metadata\n",
    "from qiime2.plugins.feature_table.methods import rarefy\n",
    "from qiime2.plugins import diversity\n",
    "from qiime2.plugins.diversity_lib.methods import weighted_unifrac, unweighted_unifrac\n",
    "\n",
    "#WOL2 Taxonomy\n",
    "wol2_taxonomy = q2.Artifact.import_data('Phylogeny[Rooted]', '/Users/cguccion/Dropbox/Storage/HelpfulLabDocs/taxonomy_trees/WOL2/tree.nwk')\n",
    "\n",
    "def table_prep(table, rarefaction=None):\n",
    "\n",
    "    '''Convert data into qiime2 objects\n",
    "    and rarefy if needed\n",
    "\n",
    "    Parameters\n",
    "    ---------\n",
    "    table: pandas df\n",
    "        Taxonomy table of samples and \n",
    "        corresponding microbial abudances\n",
    "    \n",
    "    rarefaction(optional): int\n",
    "        Level to rarefy table to\n",
    "    \n",
    "    Returns\n",
    "    -------\n",
    "    ft: q2 FeatureTable[Frequency] object\n",
    "        Qiime2 taxonomy object\n",
    "    \n",
    "    Notes\n",
    "    -----\n",
    "    '''\n",
    "    \n",
    "    #Convert table to q2 object\n",
    "    ft = Artifact.import_data(\"FeatureTable[Frequency]\", table.T)\n",
    "    \n",
    "    #(Optional) Rarefaction\n",
    "    if rarefaction != None:\n",
    "        ft = rarefy(table=ft, sampling_depth = rarefaction)\n",
    "        ft = ft.rarefied_table\n",
    "    \n",
    "    return(ft)\n",
    "\n",
    "def beta_unifraq(ft, sample_meta, metric, permutations):\n",
    "    \n",
    "    '''Calculates beta diversity for unweighted \n",
    "    & weighted unifraq\n",
    "\n",
    "    Parameters\n",
    "    ---------\n",
    "    ft: q2 FeatureTable[Frequency] object\n",
    "        Qiime2 taxonomy object\n",
    "    \n",
    "    sample_meta: q2 Metadata Object\n",
    "        Qiime2 metadata object\n",
    "        \n",
    "    metric: str\n",
    "        The column in sample_meta used to\n",
    "        calculate beta diversity across \n",
    "        samples\n",
    "    \n",
    "    Returns\n",
    "    -------\n",
    "    beta_result_uw: q2 Visulization object\n",
    "        Qiime2 visulaization object of \n",
    "        unweighted unifraq\n",
    "    \n",
    "    beta_result_w: q2 Visulization object\n",
    "        Qiime2 visulaization object of \n",
    "        weighted unifraq\n",
    "    \n",
    "    Notes\n",
    "    -----\n",
    "    '''\n",
    "    \n",
    "    #Create Un-Weighted Unifraq distance matrix\n",
    "    unweighted_unifrac_distance_matrix, = unweighted_unifrac(table=ft, phylogeny = wol2_taxonomy)\n",
    "\n",
    "    #Calculate Beta Diversity: un-weighted unifraq\n",
    "    beta_result_uw = diversity.actions.beta_group_significance(distance_matrix=unweighted_unifrac_distance_matrix,\n",
    "                                                              metadata=sample_meta.get_column(metric),\n",
    "                                                              method = 'permanova', pairwise = True,\n",
    "                                                              permutations = permutations)\n",
    "    \n",
    "    #Create weighted Unifraq distance matrix\n",
    "    weighted_unifrac_distance_matrix, = weighted_unifrac(table=ft, phylogeny = wol2_taxonomy)\n",
    "\n",
    "    #Calculate Beta Diversity: uweighted unifraq\n",
    "    beta_result_w = diversity.actions.beta_group_significance(distance_matrix=weighted_unifrac_distance_matrix,\n",
    "                                                              metadata=sample_meta.get_column(metric),\n",
    "                                                              method = 'permanova', pairwise = True,\n",
    "                                                             permutations = permutations)\n",
    "    \n",
    "    return(beta_result_uw, beta_result_w)\n",
    "\n",
    "def beta_decoide(ft, sample_meta, metric, permutations):\n",
    "    \n",
    "    '''Calculates beta diversity for unweighted \n",
    "    & weighted unifraq\n",
    "\n",
    "    Parameters\n",
    "    ---------\n",
    "    ft: q2 FeatureTable[Frequency] object\n",
    "        Qiime2 taxonomy object\n",
    "    \n",
    "    sample_meta: q2 Metadata Object\n",
    "        Qiime2 metadata object\n",
    "        \n",
    "    metric: str\n",
    "        The column in sample_meta used to\n",
    "        calculate beta diversity across \n",
    "        samples\n",
    "    \n",
    "    Returns\n",
    "    -------\n",
    "    beta_result_d: q2 Visulization object\n",
    "        Qiime2 visulaization object of \n",
    "        decoide\n",
    "    \n",
    "    Notes\n",
    "    -----\n",
    "    '''\n",
    "    \n",
    "    #Save ft for command line processing\n",
    "    ft.save('deicode_processing.qza')\n",
    "    \n",
    "    #Run deicode from command line using qza created above\n",
    "    !qiime deicode rpca --i-table deicode_processing.qza --o-biplot deicode_biplot.qza --o-distance-matrix deicode_distance_test.qza\n",
    "    \n",
    "    #Import biplot back into python\n",
    "    rpca_biplot = Artifact.load('deicode_biplot.qza')\n",
    "    \n",
    "    #Import biplot back into python\n",
    "    rpca_distance_matrix = Artifact.load('deicode_distance_test.qza')\n",
    "    \n",
    "    #Calculate permanova \n",
    "    beta_result_d = diversity.actions.beta_group_significance(distance_matrix=rpca_distance_matrix,\n",
    "                                                              metadata=sample_meta.get_column(metric),\n",
    "                                                              method = 'permanova', pairwise = True,\n",
    "                                                              permutations=permutations)\n",
    "    \n",
    "    return(beta_result_d)\n",
    "\n",
    "def all_beta(table_genome_rs210, table_genome_wol2, meta, rarefaction, metric, permutations=999):\n",
    "    \n",
    "    '''Convert data into qiime2 objects\n",
    "    and rarefy if needed\n",
    "\n",
    "    Parameters\n",
    "    ---------\n",
    "    table: pandas df\n",
    "        Taxonomy table of samples and \n",
    "        corresponding microbial abudances\n",
    "        \n",
    "    meta: pandas df\n",
    "        Metadata for samples in table\n",
    "    \n",
    "    rarefaction(optional): int\n",
    "        Level to rarefy table to\n",
    "    \n",
    "    Returns\n",
    "    -------\n",
    "    ft: q2 FeatureTable[Frequency] object\n",
    "        Qiime2 taxonomy object\n",
    "    \n",
    "    sample_meta: q2 Metadata Object\n",
    "        Qiime2 metadata object\n",
    "    \n",
    "    Notes\n",
    "    -----\n",
    "    '''\n",
    "    \n",
    "    #Convert meta to q2 object\n",
    "    sample_meta = q2.Metadata(meta.set_index('sample_name'))\n",
    "    \n",
    "    ##Create all Q2 Tables needed for Calculations##\n",
    "    \n",
    "    #RS210 Non-Rare\n",
    "    ft_genome_rs210 = table_prep(table_genome_rs210)\n",
    "    \n",
    "    #WOL2 Non-Rare\n",
    "    ft_genome_wol2 = table_prep(table_genome_wol2)\n",
    "    \n",
    "    #WOL2 Rare\n",
    "    ft_genome_wol2_rare = table_prep(table_genome_wol2, rarefaction=rarefaction)\n",
    "    \n",
    "    \n",
    "    ##Call all combinations of Beta Diversity##\n",
    "    \n",
    "    rs210_rpca_genome = beta_decoide(ft_genome_rs210, sample_meta, metric, permutations)\n",
    "    \n",
    "    wol2_uwUni_genome, wol2_wUni_genome = beta_unifraq(ft_genome_wol2_rare, sample_meta, metric, permutations)\n",
    "    \n",
    "    wol2_rpca_genome = beta_decoide(ft_genome_wol2, sample_meta, metric, permutations)\n",
    "    \n",
    "    return(rs210_rpca_genome, wol2_uwUni_genome, wol2_wUni_genome, wol2_rpca_genome)\n",
    "    "
   ]
  },
  {
   "cell_type": "code",
   "execution_count": 3,
   "id": "1502a2c1-9606-4475-a4fc-ad1575c5192d",
   "metadata": {},
   "outputs": [],
   "source": [
    "def call_beta(fn, metric, rarefaction=2000):\n",
    "    \n",
    "    #Metadata\n",
    "    metadata = pd.read_csv('processed_data/metadata/metadata_' + fn + '.tsv', sep='\\t')\n",
    "    \n",
    "    #biom tables in df format\n",
    "    df_rs210_genome = pd.read_csv('processed_data/pandas_df/' + fn + '_qiita15336_prep16181_pangenome_rs210_scrubbed_zebraFilter0.1.tsv' , sep='\\t', index_col = 0)\n",
    "    df_wol2_genome = pd.read_csv('processed_data/pandas_df/' + fn + '_qiita15336_prep16181_pangenome_wol2_scrubbed_zebraFilter0.1.tsv', sep='\\t', index_col = 0)\n",
    "   \n",
    "    rs210_rpca_genome, wol2_uwUni_genome, wol2_wUni_genome, wol2_rpca_genome = all_beta(\n",
    "        df_rs210_genome, \n",
    "        df_wol2_genome, \n",
    "        metadata, \n",
    "        rarefaction,\n",
    "        metric)\n",
    "    \n",
    "    return(rs210_rpca_genome, wol2_uwUni_genome, wol2_wUni_genome, wol2_rpca_genome)"
   ]
  },
  {
   "cell_type": "markdown",
   "id": "ed493de7-10a8-466f-bdb2-ebd4becaf099",
   "metadata": {
    "tags": []
   },
   "source": [
    "### Datasets"
   ]
  },
  {
   "cell_type": "markdown",
   "id": "e037a338-d914-4ff6-b51b-3f69f40d176e",
   "metadata": {},
   "source": [
    "### Pangenome Host Depletion\n",
    "Note: alpha rarefaction was estimated using this Qiita analysis https://qiita.ucsd.edu/analysis/description/60472/"
   ]
  },
  {
   "cell_type": "markdown",
   "id": "e54127bd-7d84-4a04-ace4-2f4f6a5e4b77",
   "metadata": {
    "tags": []
   },
   "source": [
    "#### HCC Tissue Tumor vs. CRC Tissue Tumor"
   ]
  },
  {
   "cell_type": "code",
   "execution_count": 8,
   "id": "e86da60a-a76c-42c5-9ced-c5a05ca887f7",
   "metadata": {},
   "outputs": [
    {
     "name": "stdout",
     "output_type": "stream",
     "text": [
      "\u001b[32mSaved PCoAResults % Properties('biplot') to: deicode_biplot.qza\u001b[0m\n",
      "\u001b[32mSaved DistanceMatrix to: deicode_distance_test.qza\u001b[0m\n",
      "\u001b[32mSaved PCoAResults % Properties('biplot') to: deicode_biplot.qza\u001b[0m\n",
      "\u001b[32mSaved DistanceMatrix to: deicode_distance_test.qza\u001b[0m\n"
     ]
    }
   ],
   "source": [
    "rs210_rpca_genome, wol2_uwUni_genome, wol2_wUni_genome, wol2_rpca_genome = call_beta('tumor_HCC_v_CRC', 'tumor_type', rarefaction=2000)\n"
   ]
  },
  {
   "cell_type": "markdown",
   "id": "2955f243-22d7-4076-905f-61bdb8242d9d",
   "metadata": {
    "tags": []
   },
   "source": [
    "#### CRC Adj Tissue vs. CRC Tumor Tissue"
   ]
  },
  {
   "cell_type": "code",
   "execution_count": 14,
   "id": "1fd01da5-a2da-4714-9a13-662198cba564",
   "metadata": {},
   "outputs": [
    {
     "name": "stdout",
     "output_type": "stream",
     "text": [
      "\u001b[32mSaved PCoAResults % Properties('biplot') to: deicode_biplot.qza\u001b[0m\n",
      "\u001b[32mSaved DistanceMatrix to: deicode_distance_test.qza\u001b[0m\n",
      "\u001b[32mSaved PCoAResults % Properties('biplot') to: deicode_biplot.qza\u001b[0m\n",
      "\u001b[32mSaved DistanceMatrix to: deicode_distance_test.qza\u001b[0m\n"
     ]
    }
   ],
   "source": [
    "rs210_rpca_genome, wol2_uwUni_genome, wol2_wUni_genome, wol2_rpca_genome = call_beta('CRC_adj_v_tumor', 'host_sample_type', rarefaction=2000)\n",
    "\n"
   ]
  },
  {
   "cell_type": "markdown",
   "id": "ee41db4f-6c0d-4d3f-bd11-4f664b71c490",
   "metadata": {
    "tags": []
   },
   "source": [
    "#### HCC Tissue Tumor + HCC Tissue Adj."
   ]
  },
  {
   "cell_type": "code",
   "execution_count": 19,
   "id": "63bef99b-eef5-4d23-a865-1be8e8ad2fb3",
   "metadata": {},
   "outputs": [
    {
     "name": "stdout",
     "output_type": "stream",
     "text": [
      "\u001b[32mSaved PCoAResults % Properties('biplot') to: deicode_biplot.qza\u001b[0m\n",
      "\u001b[32mSaved DistanceMatrix to: deicode_distance_test.qza\u001b[0m\n",
      "\u001b[32mSaved PCoAResults % Properties('biplot') to: deicode_biplot.qza\u001b[0m\n",
      "\u001b[32mSaved DistanceMatrix to: deicode_distance_test.qza\u001b[0m\n"
     ]
    }
   ],
   "source": [
    "rs210_rpca_genome, wol2_uwUni_genome, wol2_wUni_genome, wol2_rpca_genome = call_beta('HCC_adj_v_tumor', 'host_sample_type', rarefaction=2000)\n"
   ]
  },
  {
   "cell_type": "markdown",
   "id": "6e654edd-5b77-4c17-89a6-92ddfa92c74d",
   "metadata": {
    "tags": []
   },
   "source": [
    "#### HCC Tissue Adj. vs. CRC Tissue Adj."
   ]
  },
  {
   "cell_type": "code",
   "execution_count": 24,
   "id": "26928cee-ddaf-4d9c-a150-37d62b783b14",
   "metadata": {},
   "outputs": [
    {
     "name": "stdout",
     "output_type": "stream",
     "text": [
      "\u001b[32mSaved PCoAResults % Properties('biplot') to: deicode_biplot.qza\u001b[0m\n",
      "\u001b[32mSaved DistanceMatrix to: deicode_distance_test.qza\u001b[0m\n",
      "\u001b[32mSaved PCoAResults % Properties('biplot') to: deicode_biplot.qza\u001b[0m\n",
      "\u001b[32mSaved DistanceMatrix to: deicode_distance_test.qza\u001b[0m\n"
     ]
    }
   ],
   "source": [
    "rs210_rpca_genome, wol2_uwUni_genome, wol2_wUni_genome, wol2_rpca_genome = call_beta('adj_HCC_v_CRC', 'tumor_type', rarefaction=2000)\n"
   ]
  },
  {
   "cell_type": "markdown",
   "id": "97aafb58-0c85-46d9-9f6a-bf8231b03e45",
   "metadata": {
    "tags": []
   },
   "source": [
    "#### HCC Blood vs. CRC Blood"
   ]
  },
  {
   "cell_type": "code",
   "execution_count": 30,
   "id": "cfda47fb-2e55-4a0d-afb8-3450e680216c",
   "metadata": {},
   "outputs": [
    {
     "name": "stdout",
     "output_type": "stream",
     "text": [
      "\u001b[32mSaved PCoAResults % Properties('biplot') to: deicode_biplot.qza\u001b[0m\n",
      "\u001b[32mSaved DistanceMatrix to: deicode_distance_test.qza\u001b[0m\n",
      "\u001b[32mSaved PCoAResults % Properties('biplot') to: deicode_biplot.qza\u001b[0m\n",
      "\u001b[32mSaved DistanceMatrix to: deicode_distance_test.qza\u001b[0m\n"
     ]
    }
   ],
   "source": [
    "rs210_rpca_genome, wol2_uwUni_genome, wol2_wUni_genome, wol2_rpca_genome = call_beta('blood_HCC_v_CRC', 'tumor_type', rarefaction=550)\n"
   ]
  },
  {
   "cell_type": "markdown",
   "id": "8c0a9a1b-1361-46d6-95a8-ecf5d7b59743",
   "metadata": {},
   "source": [
    "## VISULIZATIONS FROM ABOVE - must pick something above and re-run"
   ]
  },
  {
   "cell_type": "code",
   "execution_count": 31,
   "id": "9c81754f-b1ae-4dae-9452-c17ffabd9ae1",
   "metadata": {
    "collapsed": true,
    "jupyter": {
     "outputs_hidden": true
    },
    "tags": []
   },
   "outputs": [
    {
     "data": {
      "text/html": [
       "<div><img onload=\"(function(div, url){\n",
       "if (typeof require !== 'undefined') {\n",
       "    var baseURL = require.toUrl('').split('/').slice(0, -2).join('/');\n",
       "} else {\n",
       "    var baseURL = JSON.parse(\n",
       "        document.getElementById('jupyter-config-data').innerHTML\n",
       "    ).baseUrl.slice(0, -1);\n",
       "}\n",
       "url = baseURL + url;\n",
       "fetch(url).then(function(res) {\n",
       "    if (res.status === 404) {\n",
       "        div.innerHTML = 'Install QIIME 2 Jupyter extension with:<br />' +\n",
       "                        '<code>jupyter serverextension enable --py qiime2' +\n",
       "                        ' --sys-prefix</code><br />then restart your server.' +\n",
       "                        '<br /><br />(Interactive output not available on ' +\n",
       "                        'static notebook viewer services like nbviewer.)';\n",
       "    } else if (res.status === 409) {\n",
       "        div.innerHTML = 'Visualization no longer in scope. Re-run this cell' +\n",
       "                        ' to see the visualization.';\n",
       "    } else if (res.ok) {\n",
       "        url = res.url;\n",
       "        div.innerHTML = '<iframe src=\\'' + url + '\\' style=\\'' +\n",
       "                        'width: 100%; height: 700px; border: 0;\\'>' +\n",
       "                        '</iframe><hr />Open in a: <a href=\\'' + url + '\\'' +\n",
       "                        ' target=\\'_blank\\'>new window</a>'\n",
       "    } else {\n",
       "        div.innerHTML = 'Something has gone wrong. Check notebook server for' +\n",
       "                        ' errors.';\n",
       "    }\n",
       "});\n",
       "})(this.parentElement, '/qiime2/redirect?location=/var/folders/5n/0nmstgdd6px1wmsfj0cz3w080000gp/T/qiime2-archive-humdoa2p')\" src=\"data:image/gif;base64,R0lGODlhAQABAIAAAP///wAAACH5BAEAAAAALAAAAAABAAEAAAICRAEAOw==\" /></div>"
      ],
      "text/plain": [
       "<visualization: Visualization uuid: c13f7909-42fc-44cf-b925-03f92ca6c88a>"
      ]
     },
     "execution_count": 31,
     "metadata": {},
     "output_type": "execute_result"
    }
   ],
   "source": [
    "rs210_rpca_genome.visualization"
   ]
  },
  {
   "cell_type": "code",
   "execution_count": 32,
   "id": "28fe000a-0447-485a-b4c5-d45cfa8a4349",
   "metadata": {
    "collapsed": true,
    "jupyter": {
     "outputs_hidden": true
    },
    "tags": []
   },
   "outputs": [
    {
     "data": {
      "text/html": [
       "<div><img onload=\"(function(div, url){\n",
       "if (typeof require !== 'undefined') {\n",
       "    var baseURL = require.toUrl('').split('/').slice(0, -2).join('/');\n",
       "} else {\n",
       "    var baseURL = JSON.parse(\n",
       "        document.getElementById('jupyter-config-data').innerHTML\n",
       "    ).baseUrl.slice(0, -1);\n",
       "}\n",
       "url = baseURL + url;\n",
       "fetch(url).then(function(res) {\n",
       "    if (res.status === 404) {\n",
       "        div.innerHTML = 'Install QIIME 2 Jupyter extension with:<br />' +\n",
       "                        '<code>jupyter serverextension enable --py qiime2' +\n",
       "                        ' --sys-prefix</code><br />then restart your server.' +\n",
       "                        '<br /><br />(Interactive output not available on ' +\n",
       "                        'static notebook viewer services like nbviewer.)';\n",
       "    } else if (res.status === 409) {\n",
       "        div.innerHTML = 'Visualization no longer in scope. Re-run this cell' +\n",
       "                        ' to see the visualization.';\n",
       "    } else if (res.ok) {\n",
       "        url = res.url;\n",
       "        div.innerHTML = '<iframe src=\\'' + url + '\\' style=\\'' +\n",
       "                        'width: 100%; height: 700px; border: 0;\\'>' +\n",
       "                        '</iframe><hr />Open in a: <a href=\\'' + url + '\\'' +\n",
       "                        ' target=\\'_blank\\'>new window</a>'\n",
       "    } else {\n",
       "        div.innerHTML = 'Something has gone wrong. Check notebook server for' +\n",
       "                        ' errors.';\n",
       "    }\n",
       "});\n",
       "})(this.parentElement, '/qiime2/redirect?location=/var/folders/5n/0nmstgdd6px1wmsfj0cz3w080000gp/T/qiime2-archive-thqznbmg')\" src=\"data:image/gif;base64,R0lGODlhAQABAIAAAP///wAAACH5BAEAAAAALAAAAAABAAEAAAICRAEAOw==\" /></div>"
      ],
      "text/plain": [
       "<visualization: Visualization uuid: 699ec123-1866-47c4-a027-fdeebc0d1afa>"
      ]
     },
     "execution_count": 32,
     "metadata": {},
     "output_type": "execute_result"
    }
   ],
   "source": [
    "wol2_uwUni_genome.visualization"
   ]
  },
  {
   "cell_type": "code",
   "execution_count": 33,
   "id": "5e38b75f-3bf6-4bea-aeb3-51be5e42d445",
   "metadata": {
    "collapsed": true,
    "jupyter": {
     "outputs_hidden": true
    },
    "tags": []
   },
   "outputs": [
    {
     "data": {
      "text/html": [
       "<div><img onload=\"(function(div, url){\n",
       "if (typeof require !== 'undefined') {\n",
       "    var baseURL = require.toUrl('').split('/').slice(0, -2).join('/');\n",
       "} else {\n",
       "    var baseURL = JSON.parse(\n",
       "        document.getElementById('jupyter-config-data').innerHTML\n",
       "    ).baseUrl.slice(0, -1);\n",
       "}\n",
       "url = baseURL + url;\n",
       "fetch(url).then(function(res) {\n",
       "    if (res.status === 404) {\n",
       "        div.innerHTML = 'Install QIIME 2 Jupyter extension with:<br />' +\n",
       "                        '<code>jupyter serverextension enable --py qiime2' +\n",
       "                        ' --sys-prefix</code><br />then restart your server.' +\n",
       "                        '<br /><br />(Interactive output not available on ' +\n",
       "                        'static notebook viewer services like nbviewer.)';\n",
       "    } else if (res.status === 409) {\n",
       "        div.innerHTML = 'Visualization no longer in scope. Re-run this cell' +\n",
       "                        ' to see the visualization.';\n",
       "    } else if (res.ok) {\n",
       "        url = res.url;\n",
       "        div.innerHTML = '<iframe src=\\'' + url + '\\' style=\\'' +\n",
       "                        'width: 100%; height: 700px; border: 0;\\'>' +\n",
       "                        '</iframe><hr />Open in a: <a href=\\'' + url + '\\'' +\n",
       "                        ' target=\\'_blank\\'>new window</a>'\n",
       "    } else {\n",
       "        div.innerHTML = 'Something has gone wrong. Check notebook server for' +\n",
       "                        ' errors.';\n",
       "    }\n",
       "});\n",
       "})(this.parentElement, '/qiime2/redirect?location=/var/folders/5n/0nmstgdd6px1wmsfj0cz3w080000gp/T/qiime2-archive-irqi0pxw')\" src=\"data:image/gif;base64,R0lGODlhAQABAIAAAP///wAAACH5BAEAAAAALAAAAAABAAEAAAICRAEAOw==\" /></div>"
      ],
      "text/plain": [
       "<visualization: Visualization uuid: 4efeb0dc-05ee-4b22-bbf0-fa764b528e0f>"
      ]
     },
     "execution_count": 33,
     "metadata": {},
     "output_type": "execute_result"
    }
   ],
   "source": [
    "wol2_wUni_genome.visualization"
   ]
  },
  {
   "cell_type": "code",
   "execution_count": 34,
   "id": "5cddb0ae-c09f-4b38-a00b-ca1dbe48f8db",
   "metadata": {
    "tags": []
   },
   "outputs": [
    {
     "data": {
      "text/html": [
       "<div><img onload=\"(function(div, url){\n",
       "if (typeof require !== 'undefined') {\n",
       "    var baseURL = require.toUrl('').split('/').slice(0, -2).join('/');\n",
       "} else {\n",
       "    var baseURL = JSON.parse(\n",
       "        document.getElementById('jupyter-config-data').innerHTML\n",
       "    ).baseUrl.slice(0, -1);\n",
       "}\n",
       "url = baseURL + url;\n",
       "fetch(url).then(function(res) {\n",
       "    if (res.status === 404) {\n",
       "        div.innerHTML = 'Install QIIME 2 Jupyter extension with:<br />' +\n",
       "                        '<code>jupyter serverextension enable --py qiime2' +\n",
       "                        ' --sys-prefix</code><br />then restart your server.' +\n",
       "                        '<br /><br />(Interactive output not available on ' +\n",
       "                        'static notebook viewer services like nbviewer.)';\n",
       "    } else if (res.status === 409) {\n",
       "        div.innerHTML = 'Visualization no longer in scope. Re-run this cell' +\n",
       "                        ' to see the visualization.';\n",
       "    } else if (res.ok) {\n",
       "        url = res.url;\n",
       "        div.innerHTML = '<iframe src=\\'' + url + '\\' style=\\'' +\n",
       "                        'width: 100%; height: 700px; border: 0;\\'>' +\n",
       "                        '</iframe><hr />Open in a: <a href=\\'' + url + '\\'' +\n",
       "                        ' target=\\'_blank\\'>new window</a>'\n",
       "    } else {\n",
       "        div.innerHTML = 'Something has gone wrong. Check notebook server for' +\n",
       "                        ' errors.';\n",
       "    }\n",
       "});\n",
       "})(this.parentElement, '/qiime2/redirect?location=/var/folders/5n/0nmstgdd6px1wmsfj0cz3w080000gp/T/qiime2-archive-zl2enxxh')\" src=\"data:image/gif;base64,R0lGODlhAQABAIAAAP///wAAACH5BAEAAAAALAAAAAABAAEAAAICRAEAOw==\" /></div>"
      ],
      "text/plain": [
       "<visualization: Visualization uuid: cae8ae45-3255-4d6c-a3ee-ecb76cfb7c46>"
      ]
     },
     "execution_count": 34,
     "metadata": {},
     "output_type": "execute_result"
    }
   ],
   "source": [
    "wol2_rpca_genome.visualization"
   ]
  },
  {
   "cell_type": "code",
   "execution_count": null,
   "id": "a5501a6f-ba7d-42fc-ae8c-31c237ebebea",
   "metadata": {},
   "outputs": [],
   "source": []
  }
 ],
 "metadata": {
  "kernelspec": {
   "display_name": "comad",
   "language": "python",
   "name": "comad"
  },
  "language_info": {
   "codemirror_mode": {
    "name": "ipython",
    "version": 3
   },
   "file_extension": ".py",
   "mimetype": "text/x-python",
   "name": "python",
   "nbconvert_exporter": "python",
   "pygments_lexer": "ipython3",
   "version": "3.8.8"
  }
 },
 "nbformat": 4,
 "nbformat_minor": 5
}
